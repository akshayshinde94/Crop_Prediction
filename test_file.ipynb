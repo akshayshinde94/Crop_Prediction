{
 "cells": [
  {
   "cell_type": "code",
   "execution_count": 1,
   "id": "bed8d5f4",
   "metadata": {},
   "outputs": [],
   "source": [
    "import cv2\n",
    "from tensorflow.keras.models import load_model"
   ]
  },
  {
   "cell_type": "code",
   "execution_count": 11,
   "id": "c0dd2279",
   "metadata": {},
   "outputs": [],
   "source": [
    "model =  load_model('gen_1_2_a.h5')"
   ]
  },
  {
   "cell_type": "code",
   "execution_count": 12,
   "id": "e7da6e46",
   "metadata": {},
   "outputs": [],
   "source": [
    "def get_prediction(filepath):\n",
    "    A = cv2.imread(filepath)\n",
    "    A = cv2.resize(A,(224,224))\n",
    "    A = A.reshape(1,224,224,3)/255\n",
    "    y= model.predict(A).argmax()\n",
    "    \n",
    "    if y== 0:\n",
    "        return 'jute'\n",
    "    elif y == 1:\n",
    "        return 'maize'\n",
    "    elif y == 2:\n",
    "        return 'rice'\n",
    "    elif y == 3:\n",
    "        return 'sugarcane'\n",
    "    else:\n",
    "        return 'wheat'"
   ]
  },
  {
   "cell_type": "code",
   "execution_count": 13,
   "id": "cc5a17b6",
   "metadata": {},
   "outputs": [],
   "source": [
    "import os"
   ]
  },
  {
   "cell_type": "code",
   "execution_count": 14,
   "id": "ec29ea9d",
   "metadata": {},
   "outputs": [
    {
     "name": "stdout",
     "output_type": "stream",
     "text": [
      "jute1.jpg jute\n",
      "jute2.jpg jute\n",
      "jute3.jpg jute\n",
      "maize1.jpg jute\n",
      "maize2.jpg rice\n",
      "maize3.jpg maize\n",
      "rice1.jpg sugarcane\n",
      "rice2.jpg rice\n",
      "rice3.webp rice\n",
      "ssugarcane1.jpg sugarcane\n",
      "sugarcane2.jpg jute\n",
      "wheat1.jpg wheat\n",
      "wheat2.webp wheat\n"
     ]
    }
   ],
   "source": [
    "file_names = os.listdir('../../Documents/csv/IMAGE/crop/')\n",
    "for filename in file_names:\n",
    "    print(filename, get_prediction('../../Documents/csv/IMAGE/crop/'+filename))"
   ]
  },
  {
   "cell_type": "code",
   "execution_count": null,
   "id": "6f2413fc",
   "metadata": {},
   "outputs": [],
   "source": []
  }
 ],
 "metadata": {
  "kernelspec": {
   "display_name": "Python [conda env:envi_1]",
   "language": "python",
   "name": "conda-env-envi_1-py"
  },
  "language_info": {
   "codemirror_mode": {
    "name": "ipython",
    "version": 3
   },
   "file_extension": ".py",
   "mimetype": "text/x-python",
   "name": "python",
   "nbconvert_exporter": "python",
   "pygments_lexer": "ipython3",
   "version": "3.6.13"
  }
 },
 "nbformat": 4,
 "nbformat_minor": 5
}
