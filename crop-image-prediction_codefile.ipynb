{
 "cells": [
  {
   "cell_type": "code",
   "execution_count": 1,
   "metadata": {
    "_cell_guid": "b1076dfc-b9ad-4769-8c92-a6c4dae69d19",
    "_uuid": "8f2839f25d086af736a60e9eeb907d3b93b6e0e5",
    "execution": {
     "iopub.execute_input": "2022-02-28T15:09:56.277460Z",
     "iopub.status.busy": "2022-02-28T15:09:56.276917Z",
     "iopub.status.idle": "2022-02-28T15:09:56.467226Z",
     "shell.execute_reply": "2022-02-28T15:09:56.458509Z",
     "shell.execute_reply.started": "2022-02-28T15:09:56.277419Z"
    }
   },
   "outputs": [],
   "source": [
    "import numpy as np\n",
    "import pandas as pd "
   ]
  },
  {
   "cell_type": "code",
   "execution_count": null,
   "metadata": {},
   "outputs": [],
   "source": [
    "df = pd.read_csv('../../agriculture-crop-images.csv')"
   ]
  },
  {
   "cell_type": "code",
   "execution_count": 30,
   "metadata": {
    "execution": {
     "iopub.execute_input": "2022-02-28T15:09:57.206012Z",
     "iopub.status.busy": "2022-02-28T15:09:57.205279Z",
     "iopub.status.idle": "2022-02-28T15:09:57.210149Z",
     "shell.execute_reply": "2022-02-28T15:09:57.209241Z",
     "shell.execute_reply.started": "2022-02-28T15:09:57.205961Z"
    }
   },
   "outputs": [],
   "source": [
    "from tensorflow.keras.preprocessing.image import ImageDataGenerator"
   ]
  },
  {
   "cell_type": "code",
   "execution_count": 31,
   "metadata": {
    "execution": {
     "iopub.execute_input": "2022-02-28T15:09:58.491180Z",
     "iopub.status.busy": "2022-02-28T15:09:58.490838Z",
     "iopub.status.idle": "2022-02-28T15:09:58.496901Z",
     "shell.execute_reply": "2022-02-28T15:09:58.496136Z",
     "shell.execute_reply.started": "2022-02-28T15:09:58.491119Z"
    }
   },
   "outputs": [],
   "source": [
    "train_data_gen= ImageDataGenerator(horizontal_flip=True ,zoom_range=0.2,shear_range=0.2,rescale=1/255)\n",
    "test_data_gen=ImageDataGenerator(rescale=1/255)"
   ]
  },
  {
   "cell_type": "code",
   "execution_count": 32,
   "metadata": {
    "execution": {
     "iopub.execute_input": "2022-02-28T15:10:01.710906Z",
     "iopub.status.busy": "2022-02-28T15:10:01.710366Z",
     "iopub.status.idle": "2022-02-28T15:10:01.922710Z",
     "shell.execute_reply": "2022-02-28T15:10:01.921796Z",
     "shell.execute_reply.started": "2022-02-28T15:10:01.710864Z"
    }
   },
   "outputs": [
    {
     "name": "stdout",
     "output_type": "stream",
     "text": [
      "Found 804 images belonging to 5 classes.\n",
      "Found 50 images belonging to 5 classes.\n"
     ]
    }
   ],
   "source": [
    "train_set=train_data_gen.flow_from_directory('../input/agriculture-crop-images/kag2',target_size=(224,224),\n",
    "                                            batch_size=64)\n",
    "test_set=test_data_gen.flow_from_directory('../input/agriculture-crop-images/some_more_images/some_more_images',target_size=(224,224),batch_size=64)"
   ]
  },
  {
   "cell_type": "code",
   "execution_count": 33,
   "metadata": {
    "execution": {
     "iopub.execute_input": "2022-02-28T15:10:03.430773Z",
     "iopub.status.busy": "2022-02-28T15:10:03.430051Z",
     "iopub.status.idle": "2022-02-28T15:10:03.436525Z",
     "shell.execute_reply": "2022-02-28T15:10:03.435082Z",
     "shell.execute_reply.started": "2022-02-28T15:10:03.430735Z"
    }
   },
   "outputs": [],
   "source": [
    "from tensorflow.keras.models import Sequential\n",
    "from tensorflow.keras.layers import Dense,Conv2D,Flatten,MaxPool2D\n",
    "from tensorflow.keras.layers import Conv2D, MaxPooling2D, ZeroPadding2D\n",
    "from tensorflow.keras.applications import VGG16"
   ]
  },
  {
   "cell_type": "code",
   "execution_count": 52,
   "metadata": {
    "execution": {
     "iopub.execute_input": "2022-02-28T15:17:16.551683Z",
     "iopub.status.busy": "2022-02-28T15:17:16.551384Z",
     "iopub.status.idle": "2022-02-28T15:17:16.815738Z",
     "shell.execute_reply": "2022-02-28T15:17:16.814999Z",
     "shell.execute_reply.started": "2022-02-28T15:17:16.551651Z"
    }
   },
   "outputs": [],
   "source": [
    "pre_model = VGG16(weights = 'imagenet', \n",
    "                 include_top = False, \n",
    "                 input_shape = (224, 224, 3))\n",
    "\n",
    "for layer in pre_model.layers:\n",
    "    layer.trainable = False              #trainable layers of vgg16 disabled"
   ]
  },
  {
   "cell_type": "code",
   "execution_count": 53,
   "metadata": {
    "execution": {
     "iopub.execute_input": "2022-02-28T15:17:17.066818Z",
     "iopub.status.busy": "2022-02-28T15:17:17.066164Z",
     "iopub.status.idle": "2022-02-28T15:17:17.083417Z",
     "shell.execute_reply": "2022-02-28T15:17:17.082747Z",
     "shell.execute_reply.started": "2022-02-28T15:17:17.066774Z"
    }
   },
   "outputs": [],
   "source": [
    "last_layer = Flatten()(pre_model.output)\n",
    "final_layer = Dense(5, activation='softmax')(last_layer)"
   ]
  },
  {
   "cell_type": "code",
   "execution_count": 54,
   "metadata": {
    "execution": {
     "iopub.execute_input": "2022-02-28T15:17:17.646781Z",
     "iopub.status.busy": "2022-02-28T15:17:17.646519Z",
     "iopub.status.idle": "2022-02-28T15:17:17.656641Z",
     "shell.execute_reply": "2022-02-28T15:17:17.655934Z",
     "shell.execute_reply.started": "2022-02-28T15:17:17.646751Z"
    }
   },
   "outputs": [],
   "source": [
    "from tensorflow.keras.models import Model\n",
    "model= Model(inputs=pre_model.input, outputs=final_layer)"
   ]
  },
  {
   "cell_type": "code",
   "execution_count": 55,
   "metadata": {
    "execution": {
     "iopub.execute_input": "2022-02-28T15:17:18.366160Z",
     "iopub.status.busy": "2022-02-28T15:17:18.365883Z",
     "iopub.status.idle": "2022-02-28T15:17:18.375944Z",
     "shell.execute_reply": "2022-02-28T15:17:18.375138Z",
     "shell.execute_reply.started": "2022-02-28T15:17:18.366127Z"
    }
   },
   "outputs": [],
   "source": [
    "model.compile(optimizer='adam',loss='categorical_crossentropy',metrics='accuracy')"
   ]
  },
  {
   "cell_type": "code",
   "execution_count": 56,
   "metadata": {
    "execution": {
     "iopub.execute_input": "2022-02-28T15:17:19.806743Z",
     "iopub.status.busy": "2022-02-28T15:17:19.806200Z",
     "iopub.status.idle": "2022-02-28T15:17:19.822182Z",
     "shell.execute_reply": "2022-02-28T15:17:19.821454Z",
     "shell.execute_reply.started": "2022-02-28T15:17:19.806703Z"
    }
   },
   "outputs": [
    {
     "name": "stdout",
     "output_type": "stream",
     "text": [
      "Model: \"model_1\"\n",
      "_________________________________________________________________\n",
      "Layer (type)                 Output Shape              Param #   \n",
      "=================================================================\n",
      "input_3 (InputLayer)         [(None, 224, 224, 3)]     0         \n",
      "_________________________________________________________________\n",
      "block1_conv1 (Conv2D)        (None, 224, 224, 64)      1792      \n",
      "_________________________________________________________________\n",
      "block1_conv2 (Conv2D)        (None, 224, 224, 64)      36928     \n",
      "_________________________________________________________________\n",
      "block1_pool (MaxPooling2D)   (None, 112, 112, 64)      0         \n",
      "_________________________________________________________________\n",
      "block2_conv1 (Conv2D)        (None, 112, 112, 128)     73856     \n",
      "_________________________________________________________________\n",
      "block2_conv2 (Conv2D)        (None, 112, 112, 128)     147584    \n",
      "_________________________________________________________________\n",
      "block2_pool (MaxPooling2D)   (None, 56, 56, 128)       0         \n",
      "_________________________________________________________________\n",
      "block3_conv1 (Conv2D)        (None, 56, 56, 256)       295168    \n",
      "_________________________________________________________________\n",
      "block3_conv2 (Conv2D)        (None, 56, 56, 256)       590080    \n",
      "_________________________________________________________________\n",
      "block3_conv3 (Conv2D)        (None, 56, 56, 256)       590080    \n",
      "_________________________________________________________________\n",
      "block3_pool (MaxPooling2D)   (None, 28, 28, 256)       0         \n",
      "_________________________________________________________________\n",
      "block4_conv1 (Conv2D)        (None, 28, 28, 512)       1180160   \n",
      "_________________________________________________________________\n",
      "block4_conv2 (Conv2D)        (None, 28, 28, 512)       2359808   \n",
      "_________________________________________________________________\n",
      "block4_conv3 (Conv2D)        (None, 28, 28, 512)       2359808   \n",
      "_________________________________________________________________\n",
      "block4_pool (MaxPooling2D)   (None, 14, 14, 512)       0         \n",
      "_________________________________________________________________\n",
      "block5_conv1 (Conv2D)        (None, 14, 14, 512)       2359808   \n",
      "_________________________________________________________________\n",
      "block5_conv2 (Conv2D)        (None, 14, 14, 512)       2359808   \n",
      "_________________________________________________________________\n",
      "block5_conv3 (Conv2D)        (None, 14, 14, 512)       2359808   \n",
      "_________________________________________________________________\n",
      "block5_pool (MaxPooling2D)   (None, 7, 7, 512)         0         \n",
      "_________________________________________________________________\n",
      "flatten_3 (Flatten)          (None, 25088)             0         \n",
      "_________________________________________________________________\n",
      "dense_3 (Dense)              (None, 5)                 125445    \n",
      "=================================================================\n",
      "Total params: 14,840,133\n",
      "Trainable params: 125,445\n",
      "Non-trainable params: 14,714,688\n",
      "_________________________________________________________________\n"
     ]
    }
   ],
   "source": [
    "model.summary()"
   ]
  },
  {
   "cell_type": "code",
   "execution_count": 57,
   "metadata": {
    "execution": {
     "iopub.execute_input": "2022-02-28T15:17:21.466077Z",
     "iopub.status.busy": "2022-02-28T15:17:21.465806Z",
     "iopub.status.idle": "2022-02-28T15:19:46.325183Z",
     "shell.execute_reply": "2022-02-28T15:19:46.324432Z",
     "shell.execute_reply.started": "2022-02-28T15:17:21.466033Z"
    }
   },
   "outputs": [
    {
     "name": "stdout",
     "output_type": "stream",
     "text": [
      "Epoch 1/15\n",
      "13/13 [==============================] - 10s 704ms/step - loss: 1.6215 - accuracy: 0.3818\n",
      "Epoch 2/15\n",
      "13/13 [==============================] - 10s 757ms/step - loss: 0.8033 - accuracy: 0.7226\n",
      "Epoch 3/15\n",
      "13/13 [==============================] - 9s 721ms/step - loss: 0.5031 - accuracy: 0.8607\n",
      "Epoch 4/15\n",
      "13/13 [==============================] - 9s 722ms/step - loss: 0.3717 - accuracy: 0.9067\n",
      "Epoch 5/15\n",
      "13/13 [==============================] - 10s 757ms/step - loss: 0.2983 - accuracy: 0.9428\n",
      "Epoch 6/15\n",
      "13/13 [==============================] - 9s 706ms/step - loss: 0.2480 - accuracy: 0.9415\n",
      "Epoch 7/15\n",
      "13/13 [==============================] - 9s 708ms/step - loss: 0.2214 - accuracy: 0.9602\n",
      "Epoch 8/15\n",
      "13/13 [==============================] - 9s 736ms/step - loss: 0.1648 - accuracy: 0.9826\n",
      "Epoch 9/15\n",
      "13/13 [==============================] - 10s 749ms/step - loss: 0.1358 - accuracy: 0.9876\n",
      "Epoch 10/15\n",
      "13/13 [==============================] - 9s 705ms/step - loss: 0.1114 - accuracy: 0.9938\n",
      "Epoch 11/15\n",
      "13/13 [==============================] - 9s 714ms/step - loss: 0.1007 - accuracy: 0.9975\n",
      "Epoch 12/15\n",
      "13/13 [==============================] - 10s 762ms/step - loss: 0.0919 - accuracy: 0.9950\n",
      "Epoch 13/15\n",
      "13/13 [==============================] - 9s 720ms/step - loss: 0.0839 - accuracy: 0.9988\n",
      "Epoch 14/15\n",
      "13/13 [==============================] - 9s 715ms/step - loss: 0.0803 - accuracy: 0.9988\n",
      "Epoch 15/15\n",
      "13/13 [==============================] - 9s 698ms/step - loss: 0.0746 - accuracy: 0.9988\n"
     ]
    },
    {
     "data": {
      "text/plain": [
       "<keras.callbacks.History at 0x7f40fc47f650>"
      ]
     },
     "execution_count": 57,
     "metadata": {},
     "output_type": "execute_result"
    }
   ],
   "source": [
    "model.fit_generator(train_set, epochs=15)"
   ]
  },
  {
   "cell_type": "code",
   "execution_count": 58,
   "metadata": {
    "execution": {
     "iopub.execute_input": "2022-02-28T15:19:46.331248Z",
     "iopub.status.busy": "2022-02-28T15:19:46.329544Z",
     "iopub.status.idle": "2022-02-28T15:19:49.934588Z",
     "shell.execute_reply": "2022-02-28T15:19:49.933899Z",
     "shell.execute_reply.started": "2022-02-28T15:19:46.331207Z"
    }
   },
   "outputs": [
    {
     "name": "stdout",
     "output_type": "stream",
     "text": [
      "1/1 [==============================] - 2s 2s/step - loss: 4.5601 - accuracy: 0.1400\n"
     ]
    },
    {
     "data": {
      "text/plain": [
       "[4.560104846954346, 0.14000000059604645]"
      ]
     },
     "execution_count": 58,
     "metadata": {},
     "output_type": "execute_result"
    }
   ],
   "source": [
    "model.evaluate(test_set)"
   ]
  },
  {
   "cell_type": "code",
   "execution_count": 34,
   "metadata": {
    "execution": {
     "iopub.execute_input": "2022-02-28T15:10:52.751693Z",
     "iopub.status.busy": "2022-02-28T15:10:52.750971Z",
     "iopub.status.idle": "2022-02-28T15:10:52.814637Z",
     "shell.execute_reply": "2022-02-28T15:10:52.813944Z",
     "shell.execute_reply.started": "2022-02-28T15:10:52.751653Z"
    }
   },
   "outputs": [],
   "source": [
    "model_1=Sequential()\n",
    "model_1.add(Conv2D(32,(3,3),activation='relu',input_shape=(224,224,3)))\n",
    "model_1.add(MaxPool2D())\n",
    "model_1.add(Conv2D(64,(3,3), activation='relu',padding='same'))\n",
    "model_1.add(MaxPool2D())\n",
    "model_1.add(Conv2D(64,(5,5), activation='relu',))\n",
    "model_1.add(MaxPool2D())\n",
    "model_1.add(Conv2D(64,(3,3), activation='relu',padding='same'))\n",
    "model_1.add(MaxPool2D())\n",
    "model_1.add(Flatten())\n",
    "model_1.add(Dense(5,activation='softmax'))\n",
    "\n"
   ]
  },
  {
   "cell_type": "code",
   "execution_count": 35,
   "metadata": {
    "execution": {
     "iopub.execute_input": "2022-02-28T15:11:00.491455Z",
     "iopub.status.busy": "2022-02-28T15:11:00.490955Z",
     "iopub.status.idle": "2022-02-28T15:11:00.502329Z",
     "shell.execute_reply": "2022-02-28T15:11:00.501531Z",
     "shell.execute_reply.started": "2022-02-28T15:11:00.491416Z"
    }
   },
   "outputs": [],
   "source": [
    "model_1.compile(optimizer='adam',loss='categorical_crossentropy',metrics=['accuracy'])"
   ]
  },
  {
   "cell_type": "code",
   "execution_count": 36,
   "metadata": {
    "execution": {
     "iopub.execute_input": "2022-02-28T15:11:01.670468Z",
     "iopub.status.busy": "2022-02-28T15:11:01.670191Z",
     "iopub.status.idle": "2022-02-28T15:11:01.682512Z",
     "shell.execute_reply": "2022-02-28T15:11:01.681839Z",
     "shell.execute_reply.started": "2022-02-28T15:11:01.670440Z"
    }
   },
   "outputs": [
    {
     "name": "stdout",
     "output_type": "stream",
     "text": [
      "Model: \"sequential_1\"\n",
      "_________________________________________________________________\n",
      "Layer (type)                 Output Shape              Param #   \n",
      "=================================================================\n",
      "conv2d_4 (Conv2D)            (None, 222, 222, 32)      896       \n",
      "_________________________________________________________________\n",
      "max_pooling2d_4 (MaxPooling2 (None, 111, 111, 32)      0         \n",
      "_________________________________________________________________\n",
      "conv2d_5 (Conv2D)            (None, 111, 111, 64)      18496     \n",
      "_________________________________________________________________\n",
      "max_pooling2d_5 (MaxPooling2 (None, 55, 55, 64)        0         \n",
      "_________________________________________________________________\n",
      "conv2d_6 (Conv2D)            (None, 51, 51, 64)        102464    \n",
      "_________________________________________________________________\n",
      "max_pooling2d_6 (MaxPooling2 (None, 25, 25, 64)        0         \n",
      "_________________________________________________________________\n",
      "conv2d_7 (Conv2D)            (None, 25, 25, 64)        36928     \n",
      "_________________________________________________________________\n",
      "max_pooling2d_7 (MaxPooling2 (None, 12, 12, 64)        0         \n",
      "_________________________________________________________________\n",
      "flatten_2 (Flatten)          (None, 9216)              0         \n",
      "_________________________________________________________________\n",
      "dense_2 (Dense)              (None, 5)                 46085     \n",
      "=================================================================\n",
      "Total params: 204,869\n",
      "Trainable params: 204,869\n",
      "Non-trainable params: 0\n",
      "_________________________________________________________________\n"
     ]
    }
   ],
   "source": [
    "model_1.summary()"
   ]
  },
  {
   "cell_type": "code",
   "execution_count": 37,
   "metadata": {
    "execution": {
     "iopub.execute_input": "2022-02-28T15:11:05.105884Z",
     "iopub.status.busy": "2022-02-28T15:11:05.105352Z",
     "iopub.status.idle": "2022-02-28T15:14:14.730680Z",
     "shell.execute_reply": "2022-02-28T15:14:14.730048Z",
     "shell.execute_reply.started": "2022-02-28T15:11:05.105846Z"
    }
   },
   "outputs": [
    {
     "name": "stdout",
     "output_type": "stream",
     "text": [
      "Epoch 1/20\n",
      "13/13 [==============================] - 10s 705ms/step - loss: 1.5927 - accuracy: 0.2799\n",
      "Epoch 2/20\n",
      "13/13 [==============================] - 9s 711ms/step - loss: 1.4358 - accuracy: 0.3806\n",
      "Epoch 3/20\n",
      "13/13 [==============================] - 10s 741ms/step - loss: 1.3005 - accuracy: 0.4478\n",
      "Epoch 4/20\n",
      "13/13 [==============================] - 9s 694ms/step - loss: 1.2173 - accuracy: 0.5087\n",
      "Epoch 5/20\n",
      "13/13 [==============================] - 9s 681ms/step - loss: 1.1434 - accuracy: 0.5286\n",
      "Epoch 6/20\n",
      "13/13 [==============================] - 9s 700ms/step - loss: 1.1157 - accuracy: 0.5398\n",
      "Epoch 7/20\n",
      "13/13 [==============================] - 10s 759ms/step - loss: 1.0063 - accuracy: 0.6032\n",
      "Epoch 8/20\n",
      "13/13 [==============================] - 9s 704ms/step - loss: 0.9183 - accuracy: 0.6343\n",
      "Epoch 9/20\n",
      "13/13 [==============================] - 9s 703ms/step - loss: 0.8344 - accuracy: 0.6692\n",
      "Epoch 10/20\n",
      "13/13 [==============================] - 10s 742ms/step - loss: 0.7325 - accuracy: 0.7214\n",
      "Epoch 11/20\n",
      "13/13 [==============================] - 9s 698ms/step - loss: 0.6462 - accuracy: 0.7413\n",
      "Epoch 12/20\n",
      "13/13 [==============================] - 9s 691ms/step - loss: 0.4944 - accuracy: 0.8172\n",
      "Epoch 13/20\n",
      "13/13 [==============================] - 9s 682ms/step - loss: 0.4088 - accuracy: 0.8595\n",
      "Epoch 14/20\n",
      "13/13 [==============================] - 10s 731ms/step - loss: 0.3235 - accuracy: 0.8968\n",
      "Epoch 15/20\n",
      "13/13 [==============================] - 9s 678ms/step - loss: 0.3542 - accuracy: 0.8619\n",
      "Epoch 16/20\n",
      "13/13 [==============================] - 9s 696ms/step - loss: 0.3525 - accuracy: 0.8607\n",
      "Epoch 17/20\n",
      "13/13 [==============================] - 9s 701ms/step - loss: 0.3273 - accuracy: 0.8943\n",
      "Epoch 18/20\n",
      "13/13 [==============================] - 9s 733ms/step - loss: 0.2059 - accuracy: 0.9216\n",
      "Epoch 19/20\n",
      "13/13 [==============================] - 9s 671ms/step - loss: 0.1441 - accuracy: 0.9552\n",
      "Epoch 20/20\n",
      "13/13 [==============================] - 9s 677ms/step - loss: 0.1007 - accuracy: 0.9664\n"
     ]
    },
    {
     "data": {
      "text/plain": [
       "<keras.callbacks.History at 0x7f4641e73bd0>"
      ]
     },
     "execution_count": 37,
     "metadata": {},
     "output_type": "execute_result"
    }
   ],
   "source": [
    "model_1.fit_generator(train_set,epochs=20)"
   ]
  },
  {
   "cell_type": "code",
   "execution_count": 41,
   "metadata": {
    "execution": {
     "iopub.execute_input": "2022-02-28T15:14:14.788773Z",
     "iopub.status.busy": "2022-02-28T15:14:14.788523Z",
     "iopub.status.idle": "2022-02-28T15:14:17.828607Z",
     "shell.execute_reply": "2022-02-28T15:14:17.827904Z",
     "shell.execute_reply.started": "2022-02-28T15:14:14.788740Z"
    }
   },
   "outputs": [
    {
     "name": "stdout",
     "output_type": "stream",
     "text": [
      "1/1 [==============================] - 2s 2s/step - loss: 14.0783 - accuracy: 0.0800\n"
     ]
    },
    {
     "data": {
      "text/plain": [
       "[14.078255653381348, 0.07999999821186066]"
      ]
     },
     "execution_count": 41,
     "metadata": {},
     "output_type": "execute_result"
    }
   ],
   "source": [
    "model_1.evaluate(test_set)"
   ]
  },
  {
   "cell_type": "code",
   "execution_count": 38,
   "metadata": {
    "execution": {
     "iopub.execute_input": "2022-02-28T15:14:14.732702Z",
     "iopub.status.busy": "2022-02-28T15:14:14.732439Z",
     "iopub.status.idle": "2022-02-28T15:14:14.770733Z",
     "shell.execute_reply": "2022-02-28T15:14:14.770101Z",
     "shell.execute_reply.started": "2022-02-28T15:14:14.732665Z"
    }
   },
   "outputs": [],
   "source": [
    "model_1.save(\"Crop_image_cnn_1.h5\")"
   ]
  },
  {
   "cell_type": "code",
   "execution_count": 39,
   "metadata": {
    "execution": {
     "iopub.execute_input": "2022-02-28T15:14:14.772309Z",
     "iopub.status.busy": "2022-02-28T15:14:14.772020Z",
     "iopub.status.idle": "2022-02-28T15:14:14.776267Z",
     "shell.execute_reply": "2022-02-28T15:14:14.775360Z",
     "shell.execute_reply.started": "2022-02-28T15:14:14.772272Z"
    }
   },
   "outputs": [],
   "source": [
    "class_labels=test_set.class_indices\n",
    "class_labels={v:k for k, v in class_labels.items()}\n"
   ]
  },
  {
   "cell_type": "code",
   "execution_count": 40,
   "metadata": {
    "execution": {
     "iopub.execute_input": "2022-02-28T15:14:14.778939Z",
     "iopub.status.busy": "2022-02-28T15:14:14.778400Z",
     "iopub.status.idle": "2022-02-28T15:14:14.787114Z",
     "shell.execute_reply": "2022-02-28T15:14:14.786471Z",
     "shell.execute_reply.started": "2022-02-28T15:14:14.778898Z"
    }
   },
   "outputs": [
    {
     "data": {
      "text/plain": [
       "{'Wheat': 0, 'jute': 1, 'maize': 2, 'rice': 3, 'sugarcane': 4}"
      ]
     },
     "execution_count": 40,
     "metadata": {},
     "output_type": "execute_result"
    }
   ],
   "source": [
    "test_set.class_indices"
   ]
  },
  {
   "cell_type": "code",
   "execution_count": 42,
   "metadata": {
    "execution": {
     "iopub.execute_input": "2022-02-28T15:14:17.830285Z",
     "iopub.status.busy": "2022-02-28T15:14:17.830019Z",
     "iopub.status.idle": "2022-02-28T15:14:17.835771Z",
     "shell.execute_reply": "2022-02-28T15:14:17.835085Z",
     "shell.execute_reply.started": "2022-02-28T15:14:17.830251Z"
    }
   },
   "outputs": [
    {
     "data": {
      "text/plain": [
       "{0: 'Wheat', 1: 'jute', 2: 'maize', 3: 'rice', 4: 'sugarcane'}"
      ]
     },
     "execution_count": 42,
     "metadata": {},
     "output_type": "execute_result"
    }
   ],
   "source": [
    "class_labels"
   ]
  },
  {
   "cell_type": "code",
   "execution_count": 43,
   "metadata": {
    "execution": {
     "iopub.execute_input": "2022-02-28T15:14:17.837834Z",
     "iopub.status.busy": "2022-02-28T15:14:17.837223Z",
     "iopub.status.idle": "2022-02-28T15:14:17.846758Z",
     "shell.execute_reply": "2022-02-28T15:14:17.845911Z",
     "shell.execute_reply.started": "2022-02-28T15:14:17.837796Z"
    }
   },
   "outputs": [
    {
     "data": {
      "text/plain": [
       "['Wheat', 'jute', 'maize', 'rice', 'sugarcane']"
      ]
     },
     "execution_count": 43,
     "metadata": {},
     "output_type": "execute_result"
    }
   ],
   "source": [
    "list(class_labels.values())"
   ]
  }
 ],
 "metadata": {
  "kernelspec": {
   "display_name": "Python 3 (ipykernel)",
   "language": "python",
   "name": "python3"
  },
  "language_info": {
   "codemirror_mode": {
    "name": "ipython",
    "version": 3
   },
   "file_extension": ".py",
   "mimetype": "text/x-python",
   "name": "python",
   "nbconvert_exporter": "python",
   "pygments_lexer": "ipython3",
   "version": "3.9.13"
  }
 },
 "nbformat": 4,
 "nbformat_minor": 4
}
